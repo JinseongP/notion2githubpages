{
 "cells": [
  {
   "cell_type": "code",
   "execution_count": 1,
   "metadata": {},
   "outputs": [],
   "source": [
    "import zipfile\n",
    "import glob\n",
    "import time\n",
    "import shutil\n",
    "import os"
   ]
  },
  {
   "cell_type": "code",
   "execution_count": null,
   "metadata": {},
   "outputs": [],
   "source": [
    "target=\"Export-*.zip\"\n",
    "\n",
    "date=time.localtime()\n",
    "\n",
    "path_list = glob.glob(target)\n",
    "\n",
    "posts_folder_path='_posts/'\n",
    "images_folder_path='assets/images/'\n",
    "\n",
    "if not os.path.exists(posts_folder_path):\n",
    "    os.makedirs(posts_folder_path)\n",
    "if not os.path.exists(images_folder_path):\n",
    "    os.makedirs(images_folder_path)"
   ]
  },
  {
   "cell_type": "code",
   "execution_count": null,
   "metadata": {
    "scrolled": true
   },
   "outputs": [],
   "source": [
    "for path in path_list:    \n",
    "    \n",
    "    zip_path = zipfile.ZipFile(path)\n",
    "    \n",
    "    images = None\n",
    "    if len(zip_path.namelist())>1:\n",
    "        images = zip_path.namelist()[1:]\n",
    "    post = zip_path.namelist()[0]\n",
    "\n",
    "    exported_filename = post.split('.')[0]\n",
    " \n",
    "    ########################### input\n",
    "    print(\"Title for \"+post+\": \")\n",
    "    title = input ()\n",
    "    print(\"Excerpt for \"+post+\": \")\n",
    "    excerpt = input()#'exp'\n",
    "    print(\"Category for \"+post+\": \")\n",
    "    categories = input()\n",
    "    print(\"Tags (separated by '/') for \"+post+\": \")\n",
    "    tags = input()\n",
    "    tags = tags.split('/')\n",
    "    \n",
    "    filename = str(date.tm_year)+\"-\"+str(date.tm_mon)+\"-\"+str(date.tm_mday)+\"-\"+title\n",
    "    ###########################\n",
    "\n",
    "\n",
    "    zip_path.extractall()\n",
    "\n",
    "    with open(post, 'r+', encoding='UTF8') as file:\n",
    "        readcontent = file.read()  \n",
    "        file.seek(0, 0)\n",
    "        file.truncate(0) \n",
    "        file.write(\"---\"+\"\\n\")\n",
    "        file.write(\"title: \"+title+\"\\n\")\n",
    "        file.write(\"excerpt: \"+excerpt+\"\\n\")\n",
    "        file.write(\"categories:\"+\"\\n\"+\"  - \"+categories+\"\\n\")\n",
    "        file.write(\"tags:\"+\"\\n\")\n",
    "        for tag in tags:\n",
    "            file.write(\"  - \"+tag+\"\\n\")\n",
    "        file.write(\"---\"+\"\\n\")\n",
    "              \n",
    "        if images is not None:\n",
    "            for line in readcontent.splitlines():\n",
    "                if 'png' in line:\n",
    "                    imagename = (line.split('.')[0].split('/')[1])\n",
    "                    line = '!['+imagename+'.png](%./../../'+images_folder_path+filename+'/'+imagename+'.png)'\n",
    "                file.write(line+'\\n')        \n",
    "        else:\n",
    "            file.write(readcontent) \n",
    "\n",
    "        file.close()\n",
    "\n",
    "    shutil.move(post, posts_folder_path+filename+\".md\")\n",
    "    if images is not None:\n",
    "        shutil.move(exported_filename, images_folder_path+filename)\n"
   ]
  },
  {
   "cell_type": "code",
   "execution_count": null,
   "metadata": {},
   "outputs": [],
   "source": []
  }
 ],
 "metadata": {
  "kernelspec": {
   "display_name": "Python 3",
   "language": "python",
   "name": "python3"
  },
  "language_info": {
   "codemirror_mode": {
    "name": "ipython",
    "version": 3
   },
   "file_extension": ".py",
   "mimetype": "text/x-python",
   "name": "python",
   "nbconvert_exporter": "python",
   "pygments_lexer": "ipython3",
   "version": "3.8.3"
  }
 },
 "nbformat": 4,
 "nbformat_minor": 4
}
